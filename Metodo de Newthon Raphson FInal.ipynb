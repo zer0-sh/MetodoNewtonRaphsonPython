{
 "cells": [
  {
   "attachments": {},
   "cell_type": "markdown",
   "metadata": {
    "pycharm": {
     "name": "#%% md\n"
    }
   },
   "source": [
    "# __Proyecto Analisis y métodos númericos__\n",
    "\n",
    "Universidad del Valle Sede Tuluá <br>\n",
    "_Johan Steven Muñoz Lopez_ - 1958380\n"
   ]
  },
  {
   "attachments": {},
   "cell_type": "markdown",
   "metadata": {},
   "source": [
    "## Método _Newton - Raphson_\n",
    "El siguiente algoritmo presenta el método de Newton-Raphson para encontrar la solución o raiz de una ecuacion de una variable de la forma $f(x) = 0$\n",
    "\n",
    "La solucion se obtiene a partir de la serie $x_{n + 1} = x_n - \\frac{f(x_n)}{f'(x_n)}$ que, que idealmente a partir de un $x_0$ adecuado, converge a la raiz de la ecuación."
   ]
  },
  {
   "attachments": {},
   "cell_type": "markdown",
   "metadata": {
    "pycharm": {
     "name": "#%% md\n"
    }
   },
   "source": [
    "## Primera derivada\n",
    "Derivada de primer orden, esta es necesaria para realizar el calculo de la solución de mediante la fórmula _Newton - Raphson_"
   ]
  },
  {
   "cell_type": "code",
   "execution_count": 39,
   "metadata": {},
   "outputs": [],
   "source": [
    "import sympy as sp\n",
    "\n",
    "def derivada(funcion): \n",
    "    y = funcion\n",
    "    derivada = sp.diff(y,x)\n",
    "    print('La derivada de la funcion es:', derivada)\n",
    "    return sp.sympify(derivada)\n",
    "\n",
    "x = sp.Symbol('x') ## Para que tome X como variable\n"
   ]
  },
  {
   "attachments": {},
   "cell_type": "markdown",
   "metadata": {
    "pycharm": {
     "name": "#%% md\n"
    }
   },
   "source": [
    "## Método gráfico\n",
    "Al graficar una función podemos identificar sus puntos de corte, es decir sus raices.\n",
    "\n",
    "Esta es la forma más sencilla de hallar las raices de la función, aunque tambien la más inexacta."
   ]
  },
  {
   "cell_type": "code",
   "execution_count": 40,
   "metadata": {},
   "outputs": [],
   "source": [
    "def graficar(f, x_i, x_f, num = 100): \n",
    "    import matplotlib.pyplot as plt\n",
    "    plt.style.use('dark_background')\n",
    "    import numpy as np\n",
    "    \"\"\"\n",
    "    f: función, previamente definida\n",
    "    x_i: valor inferior del intervalo en x a graficar\n",
    "    x_f: valor superior del intervalo en x a graficar\n",
    "    num: división del intervalo\n",
    "    return: gráfica de la función\n",
    "    \"\"\"\n",
    "    x = np.linspace(x_i, x_f, num)\n",
    "    fig, ax = plt.subplots(figsize=(15,5), ncols=1)\n",
    "    ax.plot(x, f(x))\n",
    "    xmin, xmax = ax.get_xlim()\n",
    "    ymin, ymax = ax.get_ylim()\n",
    "    ax.annotate(\"\", xy=(xmax, 0), xytext=(xmin, 0),arrowprops=dict(color='gray', width=1.5, headwidth=8, headlength=10))\n",
    "    ax.annotate(\"\", xy=(0, ymax), xytext=(0, ymin),arrowprops=dict(color='gray', width=1.5, headwidth=8, headlength=10))\n",
    "    plt.show()\n",
    "    return None"
   ]
  },
  {
   "attachments": {},
   "cell_type": "markdown",
   "metadata": {},
   "source": [
    "### Algortimo Newton Raphson"
   ]
  },
  {
   "cell_type": "code",
   "execution_count": 41,
   "metadata": {},
   "outputs": [],
   "source": [
    "def metodo_newton_raphson(f, df, p_0, errormaximo=10**-4, n=100):\n",
    "    \"\"\"\n",
    "    f: Funcion a la que se le intenta encontrar una solucion para la ecuacion f(x)=0, previamente definida\n",
    "    df: derivada de la función\n",
    "    p_0: punto inicial\n",
    "    error: error maximo permitido, criterio de parada\n",
    "    n: número máximo de iteraciones, criterio de parada\n",
    "    return: solución exacta o aproximada, si tiene.\n",
    "    \"\"\"\n",
    "    print('iteracion #{:<2}: p_{:<2}={:.7f}'.format(0,0,p_0))\n",
    "    error = 1\n",
    "    i = 1\n",
    "    while i <= n:\n",
    "        \n",
    "        if df(p_0) == 0:  # división al aplicar en la formula\n",
    "            print('Solución no encontrara, es decir, df(x)=0')\n",
    "            return None\n",
    "        \n",
    "        p_1 = p_0 - (f(p_0))/(df(p_0))  # fórmula método newthon Raphson\n",
    "        error = abs(p_1-p_0)\n",
    "        print('Iteracion #{:<2}: p_{:<2}={:.7f}, error={:.7f}'.format(i,i,p_1,error))\n",
    "        \n",
    "        if error < errormaximo: #criterio de parada\n",
    "            print('Solución encontrada x={:.7f}, numero de iteraciones: {}'.format(p_1,i))\n",
    "            return p_1\n",
    "        \n",
    "        p_0 = p_1\n",
    "        i += 1\n",
    "    print('Solución no encontrada: {}'.format(i-1))\n",
    "    return None\n"
   ]
  },
  {
   "attachments": {},
   "cell_type": "markdown",
   "metadata": {},
   "source": [
    "### Ejemplo 1\n",
    "Encontrar las soluciones de la ecuación $f(x) = 2x^3 + 6x^2 - 5x - 3$"
   ]
  },
  {
   "cell_type": "code",
   "execution_count": 42,
   "metadata": {},
   "outputs": [],
   "source": [
    "# Definición de la función\n",
    "def f(x):\n",
    "    return 2 * x ** 3 + 6 * x ** 2 - 5 * x - 3\n",
    "\n",
    "def df(x):\n",
    "    return 6*x**2 + 12*x - 5\n"
   ]
  },
  {
   "cell_type": "code",
   "execution_count": 43,
   "metadata": {},
   "outputs": [
    {
     "name": "stdout",
     "output_type": "stream",
     "text": [
      "La derivada de la funcion es: 6*x**2 + 12*x - 5\n"
     ]
    },
    {
     "data": {
      "text/latex": [
       "$\\displaystyle 6 x^{2} + 12 x - 5$"
      ],
      "text/plain": [
       "6*x**2 + 12*x - 5"
      ]
     },
     "execution_count": 43,
     "metadata": {},
     "output_type": "execute_result"
    }
   ],
   "source": [
    "#Derivar\n",
    "\n",
    "funcion = 2 * x ** 3 + 6 * x ** 2 - 5 * x - 3\n",
    "derivada(funcion)"
   ]
  },
  {
   "cell_type": "code",
   "execution_count": 44,
   "metadata": {},
   "outputs": [
    {
     "name": "stdout",
     "output_type": "stream",
     "text": [
      "iteracion #0 : p_0 =0.0000000\n",
      "Iteracion #1 : p_1 =-0.6000000, error=0.6000000\n",
      "Iteracion #2 : p_2 =-0.4278884, error=0.1721116\n",
      "Iteracion #3 : p_3 =-0.4188923, error=0.0089962\n",
      "Solución encontrada x=-0.4188923, numero de iteraciones: 3\n"
     ]
    },
    {
     "data": {
      "text/plain": [
       "-0.4188922900311658"
      ]
     },
     "execution_count": 44,
     "metadata": {},
     "output_type": "execute_result"
    }
   ],
   "source": [
    "# Newton Raphson\n",
    "\n",
    "metodo_newton_raphson(f, df, 0, 0.01)"
   ]
  },
  {
   "cell_type": "code",
   "execution_count": 45,
   "metadata": {},
   "outputs": [
    {
     "data": {
      "image/png": "[encoded data removed]",
      "text/plain": [
       "<Figure size 1500x500 with 1 Axes>"
      ]
     },
     "metadata": {},
     "output_type": "display_data"
    }
   ],
   "source": [
    "# Grafico\n",
    "\n",
    "graficar(f,0.1,2)"
   ]
  },
  {
   "attachments": {},
   "cell_type": "markdown",
   "metadata": {},
   "source": [
    "### Ejemplo 2\n",
    "Encontrar las soluciones de la ecuación $g(x) = x^3 - 4x^2 - 3x$"
   ]
  },
  {
   "cell_type": "code",
   "execution_count": 46,
   "metadata": {},
   "outputs": [
    {
     "name": "stdout",
     "output_type": "stream",
     "text": [
      "La derivada de la funcion es: 12*x**2 - 8*x - 3\n"
     ]
    },
    {
     "data": {
      "text/latex": [
       "$\\displaystyle 12 x^{2} - 8 x - 3$"
      ],
      "text/plain": [
       "12*x**2 - 8*x - 3"
      ]
     },
     "execution_count": 46,
     "metadata": {},
     "output_type": "execute_result"
    }
   ],
   "source": [
    "#Derivar\n",
    "\n",
    "funcion = 4 * x ** 3 - 4 * x ** 2 - 3 * x\n",
    "derivada(funcion)"
   ]
  },
  {
   "cell_type": "code",
   "execution_count": 47,
   "metadata": {},
   "outputs": [],
   "source": [
    "# Definición de la función\n",
    "def g(x):\n",
    "    return 4 * x ** 3 - 4 * x ** 2 - 3 * x\n",
    "\n",
    "def gf(x):\n",
    "    return 12*x**2 - 8*x - 3"
   ]
  },
  {
   "cell_type": "code",
   "execution_count": 48,
   "metadata": {},
   "outputs": [
    {
     "name": "stdout",
     "output_type": "stream",
     "text": [
      "iteracion #0 : p_0 =4.0000000\n",
      "Iteracion #1 : p_1 =2.8535032, error=1.1464968\n",
      "Iteracion #2 : p_2 =2.1327646, error=0.7207386\n",
      "Iteracion #3 : p_3 =1.7210845, error=0.4116801\n",
      "Iteracion #4 : p_4 =1.5410476, error=0.1800369\n",
      "Iteracion #5 : p_5 =1.5018332, error=0.0392144\n",
      "Iteracion #6 : p_6 =1.5000039, error=0.0018293\n",
      "Iteracion #7 : p_7 =1.5000000, error=0.0000039\n",
      "Solución encontrada x=1.5000000, numero de iteraciones: 7\n"
     ]
    },
    {
     "data": {
      "text/plain": [
       "1.5000000000178173"
      ]
     },
     "execution_count": 48,
     "metadata": {},
     "output_type": "execute_result"
    }
   ],
   "source": [
    "# Newton Raphson\n",
    "\n",
    "metodo_newton_raphson(g, gf, 4, errormaximo=0.00001, n=500)"
   ]
  },
  {
   "cell_type": "code",
   "execution_count": 49,
   "metadata": {},
   "outputs": [
    {
     "data": {
      "image/png": "[encoded data removed]",
      "text/plain": [
       "<Figure size 1500x500 with 1 Axes>"
      ]
     },
     "metadata": {},
     "output_type": "display_data"
    }
   ],
   "source": [
    "# Grafico\n",
    "\n",
    "graficar(g,1,2)"
   ]
  },
  {
   "attachments": {},
   "cell_type": "markdown",
   "metadata": {},
   "source": [
    "### Ejemplo 3\n",
    "Encontrar las soluciones de la ecuación $h(x) = x^3 + 2x - 5$"
   ]
  },
  {
   "cell_type": "code",
   "execution_count": 50,
   "metadata": {},
   "outputs": [],
   "source": [
    "def h(x):\n",
    "    return x ** 3 - 2 * x - 5\n",
    "\n",
    "def hf(x):\n",
    "    return 3*x**2 - 2"
   ]
  },
  {
   "cell_type": "code",
   "execution_count": 51,
   "metadata": {},
   "outputs": [
    {
     "name": "stdout",
     "output_type": "stream",
     "text": [
      "La derivada de la funcion es: 3*x**2 - 2\n"
     ]
    },
    {
     "data": {
      "text/latex": [
       "$\\displaystyle 3 x^{2} - 2$"
      ],
      "text/plain": [
       "3*x**2 - 2"
      ]
     },
     "execution_count": 51,
     "metadata": {},
     "output_type": "execute_result"
    }
   ],
   "source": [
    "#Derivar\n",
    "\n",
    "funcion =  x ** 3 - 2 * x - 5\n",
    "derivada(funcion)"
   ]
  },
  {
   "cell_type": "code",
   "execution_count": 52,
   "metadata": {},
   "outputs": [
    {
     "name": "stdout",
     "output_type": "stream",
     "text": [
      "iteracion #0 : p_0 =1.0000000\n",
      "Iteracion #1 : p_1 =7.0000000, error=6.0000000\n",
      "Iteracion #2 : p_2 =4.7655172, error=2.2344828\n",
      "Iteracion #3 : p_3 =3.3487028, error=1.4168145\n",
      "Iteracion #4 : p_4 =2.5315996, error=0.8171031\n",
      "Iteracion #5 : p_5 =2.1739159, error=0.3576838\n",
      "Iteracion #6 : p_6 =2.0978837, error=0.0760322\n",
      "Iteracion #7 : p_7 =2.0945577, error=0.0033260\n",
      "Iteracion #8 : p_8 =2.0945515, error=0.0000062\n",
      "Iteracion #9 : p_9 =2.0945515, error=0.0000000\n",
      "Solución encontrada x=2.0945515, numero de iteraciones: 9\n"
     ]
    },
    {
     "data": {
      "text/plain": [
       "2.0945514815423265"
      ]
     },
     "execution_count": 52,
     "metadata": {},
     "output_type": "execute_result"
    }
   ],
   "source": [
    "# Newton Raphson\n",
    "\n",
    "metodo_newton_raphson(h, hf, 1, errormaximo=0.00000001, n=500)"
   ]
  },
  {
   "cell_type": "code",
   "execution_count": 53,
   "metadata": {},
   "outputs": [
    {
     "data": {
      "image/png": "[encoded data removed]",
      "text/plain": [
       "<Figure size 1500x500 with 1 Axes>"
      ]
     },
     "metadata": {},
     "output_type": "display_data"
    }
   ],
   "source": [
    "# Grafico\n",
    "\n",
    "graficar(h,1,2.5)"
   ]
  }
 ],
 "metadata": {
  "kernelspec": {
   "display_name": "Python 3",
   "language": "python",
   "name": "python3"
  },
  "language_info": {
   "codemirror_mode": {
    "name": "ipython",
    "version": 3
   },
   "file_extension": ".py",
   "mimetype": "text/x-python",
   "name": "python",
   "nbconvert_exporter": "python",
   "pygments_lexer": "ipython3",
   "version": "3.11.1"
  },
  "vscode": {
   "interpreter": {
    "hash": "4d58825d447355bfeb400f5c0ce817a2d509fc6fdd21cdea5ecafaa3a482be5b"
   }
  }
 },
 "nbformat": 4,
 "nbformat_minor": 4
}
